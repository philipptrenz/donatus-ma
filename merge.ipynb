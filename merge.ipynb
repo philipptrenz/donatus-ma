{
 "cells": [
  {
   "cell_type": "code",
   "execution_count": 1,
   "id": "d6f5ee64",
   "metadata": {},
   "outputs": [],
   "source": [
    "import pandas as pd\n",
    "import os\n",
    "import glob\n",
    "\n",
    "path = os.getcwd()\n",
    "csv_files = glob.glob(os.path.join(path, \"data/*.csv\"))"
   ]
  },
  {
   "cell_type": "code",
   "execution_count": 29,
   "id": "36e86a5d",
   "metadata": {},
   "outputs": [],
   "source": [
    "dataframes = []\n",
    "\n",
    "for f in csv_files:\n",
    "\n",
    "    # read the csv file\n",
    "    df = pd.read_csv(f)\n",
    "    \n",
    "    # skip setup files\n",
    "    if len(df) <2:\n",
    "        continue\n",
    "    \n",
    "    # add UUID as column\n",
    "    df[\"uuid\"] = os.path.splitext(f)[0][-36:]\n",
    "    \n",
    "    # append to array\n",
    "    dataframes.append(df)"
   ]
  },
  {
   "cell_type": "code",
   "execution_count": 30,
   "id": "1024330f",
   "metadata": {},
   "outputs": [],
   "source": [
    "# concatenate data frames\n",
    "merged = pd.concat(dataframes)\n",
    "\n",
    "# save to svg\n",
    "merged.to_csv(\"merged.csv\")"
   ]
  }
 ],
 "metadata": {
  "kernelspec": {
   "display_name": "Python 3 (ipykernel)",
   "language": "python",
   "name": "python3"
  },
  "language_info": {
   "codemirror_mode": {
    "name": "ipython",
    "version": 3
   },
   "file_extension": ".py",
   "mimetype": "text/x-python",
   "name": "python",
   "nbconvert_exporter": "python",
   "pygments_lexer": "ipython3",
   "version": "3.9.16"
  }
 },
 "nbformat": 4,
 "nbformat_minor": 5
}
